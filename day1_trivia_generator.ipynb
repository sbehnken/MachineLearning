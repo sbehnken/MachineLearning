{
 "cells": [
  {
   "cell_type": "code",
   "execution_count": 1,
   "id": "ce0e7bba-ada5-4220-be20-e5715382cf76",
   "metadata": {},
   "outputs": [],
   "source": [
    "import openai\n",
    "import os\n",
    "from dotenv import load_dotenv\n",
    "from openai import OpenAI\n",
    "from IPython.display import Markdown, display"
   ]
  },
  {
   "cell_type": "code",
   "execution_count": 2,
   "id": "9ec55cdb-eb42-4c0f-a6ef-a9ca7c975bea",
   "metadata": {},
   "outputs": [
    {
     "name": "stdout",
     "output_type": "stream",
     "text": [
      "API key found and looks good so far!\n"
     ]
    }
   ],
   "source": [
    "load_dotenv(override=True)\n",
    "api_key = os.getenv('OPENAI_API_KEY')\n",
    "\n",
    "# Check the key\n",
    "\n",
    "if not api_key:\n",
    "    print(\"No API key was found - please head over to the troubleshooting notebook in this folder to identify & fix!\")\n",
    "elif not api_key.startswith(\"sk-proj-\"):\n",
    "    print(\"An API key was found, but it doesn't start sk-proj-; please check you're using the right key - see troubleshooting notebook\")\n",
    "elif api_key.strip() != api_key:\n",
    "    print(\"An API key was found, but it looks like it might have space or tab characters at the start or end - please remove them - see troubleshooting notebook\")\n",
    "else:\n",
    "    print(\"API key found and looks good so far!\")"
   ]
  },
  {
   "cell_type": "code",
   "execution_count": 6,
   "id": "909f32b0-3463-4598-a736-f95bc82fdba0",
   "metadata": {},
   "outputs": [],
   "source": [
    "def generate_trivia(topic):\n",
    "    prompt = f\"Generate a 10 question trivia game on the topic: {topic}. Include the correct answer for each question.\"\n",
    "    \n",
    "    messages = [\n",
    "        {\"role\": \"system\", \"content\": \"You are a trivia generator. Create a 10 question general knowledge trivia game on recent events and provide the correct answers. Respond in markdown. Exclude politics and religion.\"},\n",
    "        {\"role\": \"user\", \"content\": prompt}\n",
    "    ]\n",
    "    \n",
    "    response = openai.chat.completions.create(\n",
    "        model=\"gpt-4\",\n",
    "        messages=messages,\n",
    "        max_tokens=300\n",
    "    )\n",
    "    \n",
    "    return response.choices[0].message.content"
   ]
  },
  {
   "cell_type": "code",
   "execution_count": 9,
   "id": "c171f36a-d309-41b9-8f7c-dc0f8aaf7e27",
   "metadata": {},
   "outputs": [
    {
     "data": {
      "text/markdown": [
       "Sure, here you go!\n",
       "\n",
       "**Question 1.** Which streaming service released \"The Queen's Gambit\" in 2020?\n",
       "- **Answer:** Netflix\n",
       "\n",
       "**Question 2.** Who won the 2021 Grammy for \"Album of the Year\"?\n",
       "- **Answer:** Taylor Swift\n",
       "\n",
       "**Question 3.** In 2020, which country committed to become Carbon neutral by 2060?\n",
       "- **Answer:** China\n",
       "\n",
       "**Question 4.** In 2019, which country hosted the Rugby World Cup?\n",
       "- **Answer:** Japan\n",
       "\n",
       "**Question 5.** Who won the Best Actor award at the 2021 Oscars?\n",
       "- **Answer:** Anthony Hopkins\n",
       "\n",
       "**Question 6.** Which company sent civilians to space for the first time in 2021 without any professional astronauts?\n",
       "- **Answer:** SpaceX\n",
       "\n",
       "**Question 7.** Who was named Time Magazine’s 2020 \"Guardian of the Year\"?\n",
       "- **Answer:** Dr. Anthony Fauci\n",
       "\n",
       "**Question 8.** Which city will host the 2024 Summer Olympics?\n",
       "- **Answer:** Paris\n",
       "\n",
       "**Question 9.** What was the name of the Mars rover that NASA landed in 2021?\n",
       "- **Answer:** Perseverance\n",
       "\n",
       "**Question 10.** In September 2020, which popular game was banned from the Apple App Store, leading to a legal battle?\n",
       "- **Answer:** Fortnite"
      ],
      "text/plain": [
       "<IPython.core.display.Markdown object>"
      ]
     },
     "metadata": {},
     "output_type": "display_data"
    }
   ],
   "source": [
    "# Example usage\n",
    "topic = \"General knowledge trivia on recent events\"\n",
    "trivia = generate_trivia(topic)\n",
    "display(Markdown(trivia))"
   ]
  },
  {
   "cell_type": "code",
   "execution_count": null,
   "id": "0a39eb60-1585-46e2-886f-b5efc866cb04",
   "metadata": {},
   "outputs": [],
   "source": []
  }
 ],
 "metadata": {
  "kernelspec": {
   "display_name": "Python 3 (ipykernel)",
   "language": "python",
   "name": "python3"
  },
  "language_info": {
   "codemirror_mode": {
    "name": "ipython",
    "version": 3
   },
   "file_extension": ".py",
   "mimetype": "text/x-python",
   "name": "python",
   "nbconvert_exporter": "python",
   "pygments_lexer": "ipython3",
   "version": "3.11.12"
  }
 },
 "nbformat": 4,
 "nbformat_minor": 5
}
